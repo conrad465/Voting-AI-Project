{
 "cells": [
  {
   "cell_type": "code",
   "execution_count": 2,
   "metadata": {},
   "outputs": [
    {
     "name": "stdout",
     "output_type": "stream",
     "text": [
      "Collecting sqlalchemy\n",
      "  Downloading SQLAlchemy-1.2.6.tar.gz (5.6MB)\n",
      "\u001b[K    100% |████████████████████████████████| 5.6MB 222kB/s eta 0:00:01\n",
      "\u001b[?25hBuilding wheels for collected packages: sqlalchemy\n",
      "  Running setup.py bdist_wheel for sqlalchemy ... \u001b[?25ldone\n",
      "\u001b[?25h  Stored in directory: /home/vcm/.cache/pip/wheels/8d/48/f9/9696b871259fab50e3d7bfae503481cce09829a3cd80748750\n",
      "Successfully built sqlalchemy\n",
      "Installing collected packages: sqlalchemy\n",
      "Successfully installed sqlalchemy-1.2.2\n",
      "\u001b[33mYou are using pip version 8.1.1, however version 9.0.3 is available.\n",
      "You should consider upgrading via the 'pip install --upgrade pip' command.\u001b[0m\n"
     ]
    }
   ],
   "source": [
    "!pip install sqlalchemy"
   ]
  },
  {
   "cell_type": "code",
   "execution_count": 3,
   "metadata": {},
   "outputs": [
    {
     "ename": "ImportError",
     "evalue": "cannot import name compat",
     "traceback": [
      "\u001b[0;31m---------------------------------------------------------------------------\u001b[0m",
      "\u001b[0;31mImportError\u001b[0m                               Traceback (most recent call last)",
      "\u001b[0;32m<ipython-input-3-a28dd6433570>\u001b[0m in \u001b[0;36m<module>\u001b[0;34m()\u001b[0m\n\u001b[1;32m      1\u001b[0m \u001b[0;32mimport\u001b[0m \u001b[0mpsycopg2\u001b[0m\u001b[0;34m\u001b[0m\u001b[0m\n\u001b[0;32m----> 2\u001b[0;31m \u001b[0;32mimport\u001b[0m \u001b[0mpandas\u001b[0m \u001b[0;32mas\u001b[0m \u001b[0mpd\u001b[0m\u001b[0;34m\u001b[0m\u001b[0m\n\u001b[0m\u001b[1;32m      3\u001b[0m \u001b[0;32mfrom\u001b[0m \u001b[0msqlalchemy\u001b[0m \u001b[0;32mimport\u001b[0m \u001b[0mcreate_engine\u001b[0m\u001b[0;34m\u001b[0m\u001b[0m\n\u001b[1;32m      4\u001b[0m \u001b[0;32mfrom\u001b[0m \u001b[0mIPython\u001b[0m\u001b[0;34m.\u001b[0m\u001b[0mdisplay\u001b[0m \u001b[0;32mimport\u001b[0m \u001b[0mdisplay\u001b[0m\u001b[0;34m\u001b[0m\u001b[0m\n\u001b[1;32m      5\u001b[0m \u001b[0;32mimport\u001b[0m \u001b[0msys\u001b[0m\u001b[0;34m\u001b[0m\u001b[0m\n",
      "\u001b[0;32m/home/vcm/.local/lib/python2.7/site-packages/pandas/__init__.pyc\u001b[0m in \u001b[0;36m<module>\u001b[0;34m()\u001b[0m\n\u001b[1;32m     40\u001b[0m \u001b[0;32mimport\u001b[0m \u001b[0mpandas\u001b[0m\u001b[0;34m.\u001b[0m\u001b[0mcore\u001b[0m\u001b[0;34m.\u001b[0m\u001b[0mconfig_init\u001b[0m\u001b[0;34m\u001b[0m\u001b[0m\n\u001b[1;32m     41\u001b[0m \u001b[0;34m\u001b[0m\u001b[0m\n\u001b[0;32m---> 42\u001b[0;31m \u001b[0;32mfrom\u001b[0m \u001b[0mpandas\u001b[0m\u001b[0;34m.\u001b[0m\u001b[0mcore\u001b[0m\u001b[0;34m.\u001b[0m\u001b[0mapi\u001b[0m \u001b[0;32mimport\u001b[0m \u001b[0;34m*\u001b[0m\u001b[0;34m\u001b[0m\u001b[0m\n\u001b[0m\u001b[1;32m     43\u001b[0m \u001b[0;32mfrom\u001b[0m \u001b[0mpandas\u001b[0m\u001b[0;34m.\u001b[0m\u001b[0mcore\u001b[0m\u001b[0;34m.\u001b[0m\u001b[0msparse\u001b[0m\u001b[0;34m.\u001b[0m\u001b[0mapi\u001b[0m \u001b[0;32mimport\u001b[0m \u001b[0;34m*\u001b[0m\u001b[0;34m\u001b[0m\u001b[0m\n\u001b[1;32m     44\u001b[0m \u001b[0;32mfrom\u001b[0m \u001b[0mpandas\u001b[0m\u001b[0;34m.\u001b[0m\u001b[0mstats\u001b[0m\u001b[0;34m.\u001b[0m\u001b[0mapi\u001b[0m \u001b[0;32mimport\u001b[0m \u001b[0;34m*\u001b[0m\u001b[0;34m\u001b[0m\u001b[0m\n",
      "\u001b[0;32m/home/vcm/.local/lib/python2.7/site-packages/pandas/core/api.py\u001b[0m in \u001b[0;36m<module>\u001b[0;34m()\u001b[0m\n\u001b[1;32m      8\u001b[0m \u001b[0;32mfrom\u001b[0m \u001b[0mpandas\u001b[0m\u001b[0;34m.\u001b[0m\u001b[0mcore\u001b[0m\u001b[0;34m.\u001b[0m\u001b[0mdtypes\u001b[0m\u001b[0;34m.\u001b[0m\u001b[0mmissing\u001b[0m \u001b[0;32mimport\u001b[0m \u001b[0misna\u001b[0m\u001b[0;34m,\u001b[0m \u001b[0misnull\u001b[0m\u001b[0;34m,\u001b[0m \u001b[0mnotna\u001b[0m\u001b[0;34m,\u001b[0m \u001b[0mnotnull\u001b[0m\u001b[0;34m\u001b[0m\u001b[0m\n\u001b[1;32m      9\u001b[0m \u001b[0;32mfrom\u001b[0m \u001b[0mpandas\u001b[0m\u001b[0;34m.\u001b[0m\u001b[0mcore\u001b[0m\u001b[0;34m.\u001b[0m\u001b[0mcategorical\u001b[0m \u001b[0;32mimport\u001b[0m \u001b[0mCategorical\u001b[0m\u001b[0;34m\u001b[0m\u001b[0m\n\u001b[0;32m---> 10\u001b[0;31m \u001b[0;32mfrom\u001b[0m \u001b[0mpandas\u001b[0m\u001b[0;34m.\u001b[0m\u001b[0mcore\u001b[0m\u001b[0;34m.\u001b[0m\u001b[0mgroupby\u001b[0m \u001b[0;32mimport\u001b[0m \u001b[0mGrouper\u001b[0m\u001b[0;34m\u001b[0m\u001b[0m\n\u001b[0m\u001b[1;32m     11\u001b[0m \u001b[0;32mfrom\u001b[0m \u001b[0mpandas\u001b[0m\u001b[0;34m.\u001b[0m\u001b[0mio\u001b[0m\u001b[0;34m.\u001b[0m\u001b[0mformats\u001b[0m\u001b[0;34m.\u001b[0m\u001b[0mformat\u001b[0m \u001b[0;32mimport\u001b[0m \u001b[0mset_eng_float_format\u001b[0m\u001b[0;34m\u001b[0m\u001b[0m\n\u001b[1;32m     12\u001b[0m from pandas.core.index import (Index, CategoricalIndex, Int64Index,\n",
      "\u001b[0;32m/home/vcm/.local/lib/python2.7/site-packages/pandas/core/groupby.py\u001b[0m in \u001b[0;36m<module>\u001b[0;34m()\u001b[0m\n\u001b[1;32m     13\u001b[0m )\n\u001b[1;32m     14\u001b[0m \u001b[0;34m\u001b[0m\u001b[0m\n\u001b[0;32m---> 15\u001b[0;31m \u001b[0;32mfrom\u001b[0m \u001b[0mpandas\u001b[0m \u001b[0;32mimport\u001b[0m \u001b[0mcompat\u001b[0m\u001b[0;34m\u001b[0m\u001b[0m\n\u001b[0m\u001b[1;32m     16\u001b[0m \u001b[0;32mfrom\u001b[0m \u001b[0mpandas\u001b[0m\u001b[0;34m.\u001b[0m\u001b[0mcompat\u001b[0m\u001b[0;34m.\u001b[0m\u001b[0mnumpy\u001b[0m \u001b[0;32mimport\u001b[0m \u001b[0mfunction\u001b[0m \u001b[0;32mas\u001b[0m \u001b[0mnv\u001b[0m\u001b[0;34m\u001b[0m\u001b[0m\n\u001b[1;32m     17\u001b[0m \u001b[0;32mfrom\u001b[0m \u001b[0mpandas\u001b[0m\u001b[0;34m.\u001b[0m\u001b[0mcompat\u001b[0m \u001b[0;32mimport\u001b[0m \u001b[0mset_function_name\u001b[0m\u001b[0;34m\u001b[0m\u001b[0m\n",
      "\u001b[0;31mImportError\u001b[0m: cannot import name compat"
     ],
     "output_type": "error"
    }
   ],
   "source": [
    "import psycopg2\n",
    "import pandas as pd\n",
    "from sqlalchemy import create_engine\n",
    "from IPython.display import display\n",
    "import sys"
   ]
  },
  {
   "cell_type": "code",
   "execution_count": 15,
   "metadata": {},
   "outputs": [],
   "source": [
    "#read in CSV file and store relevant components --> for 2000 election\n",
    "def read_csv_2000():\n",
    "    with open('ElectionResults_2002.csv', 'r') as f:\n",
    "        precincts = list()\n",
    "        contest = list()\n",
    "        candidate = list()\n",
    "        party = list()\n",
    "        voteCount = list()\n",
    "        for line in f: \n",
    "            fields = line.split(',')\n",
    "            contest_type = fields[4]\n",
    "            #We only want the fields that have to do with US HOUSE of Rep elections\n",
    "            if \"US HOUSE OF REP.\" in contest_type: \n",
    "                #print contest_type \n",
    "                precincts.append(fields[3].strip())\n",
    "                contest.append(contest_type)\n",
    "                candidate.append(fields[5])\n",
    "                party.append(fields[6])\n",
    "                voteCount.append(fields[7])\n",
    "                \n",
    "    print precincts[0], contest[0], candidate[0], party[0], voteCount[0]\n",
    "        \n",
    "        "
   ]
  },
  {
   "cell_type": "code",
   "execution_count": 16,
   "metadata": {},
   "outputs": [
    {
     "ename": "IndexError",
     "evalue": "list index out of range",
     "traceback": [
      "\u001b[0;31m---------------------------------------------------------------------------\u001b[0m",
      "\u001b[0;31mIndexError\u001b[0m                                Traceback (most recent call last)",
      "\u001b[0;32m<ipython-input-16-5e2f59876f12>\u001b[0m in \u001b[0;36m<module>\u001b[0;34m()\u001b[0m\n\u001b[0;32m----> 1\u001b[0;31m \u001b[0mread_csv\u001b[0m\u001b[0;34m(\u001b[0m\u001b[0;34m)\u001b[0m\u001b[0;34m\u001b[0m\u001b[0m\n\u001b[0m",
      "\u001b[0;32m<ipython-input-15-a28278ab8628>\u001b[0m in \u001b[0;36mread_csv\u001b[0;34m()\u001b[0m\n\u001b[1;32m     19\u001b[0m                 \u001b[0mvoteCount\u001b[0m\u001b[0;34m.\u001b[0m\u001b[0mappend\u001b[0m\u001b[0;34m(\u001b[0m\u001b[0mfields\u001b[0m\u001b[0;34m[\u001b[0m\u001b[0;36m7\u001b[0m\u001b[0;34m]\u001b[0m\u001b[0;34m)\u001b[0m\u001b[0;34m\u001b[0m\u001b[0m\n\u001b[1;32m     20\u001b[0m \u001b[0;34m\u001b[0m\u001b[0m\n\u001b[0;32m---> 21\u001b[0;31m     \u001b[0;32mprint\u001b[0m \u001b[0mprecincts\u001b[0m\u001b[0;34m[\u001b[0m\u001b[0;36m0\u001b[0m\u001b[0;34m]\u001b[0m\u001b[0;34m,\u001b[0m \u001b[0mcontest\u001b[0m\u001b[0;34m[\u001b[0m\u001b[0;36m0\u001b[0m\u001b[0;34m]\u001b[0m\u001b[0;34m,\u001b[0m \u001b[0mcandidate\u001b[0m\u001b[0;34m[\u001b[0m\u001b[0;36m0\u001b[0m\u001b[0;34m]\u001b[0m\u001b[0;34m,\u001b[0m \u001b[0mparty\u001b[0m\u001b[0;34m[\u001b[0m\u001b[0;36m0\u001b[0m\u001b[0;34m]\u001b[0m\u001b[0;34m,\u001b[0m \u001b[0mvoteCount\u001b[0m\u001b[0;34m[\u001b[0m\u001b[0;36m0\u001b[0m\u001b[0;34m]\u001b[0m\u001b[0;34m\u001b[0m\u001b[0m\n\u001b[0m\u001b[1;32m     22\u001b[0m \u001b[0;34m\u001b[0m\u001b[0m\n\u001b[1;32m     23\u001b[0m \u001b[0;34m\u001b[0m\u001b[0m\n",
      "\u001b[0;31mIndexError\u001b[0m: list index out of range"
     ],
     "output_type": "error"
    }
   ],
   "source": [
    "read_csv_2000()"
   ]
  },
  {
   "cell_type": "code",
   "execution_count": 26,
   "metadata": {},
   "outputs": [],
   "source": [
    "#read in CSV file and store relevant components --> for 2002 election\n",
    "def read_csv_2002():\n",
    "    with open('ElectionResults_2002.csv', 'r') as f:\n",
    "        precincts = list()\n",
    "        contest = list()\n",
    "        candidate = list()\n",
    "        party = list()\n",
    "        voteCount = list()\n",
    "        for line in f: \n",
    "            fields = line.split(',')\n",
    "            contest_type = fields[4]\n",
    "            #We only want the fields that have to do with US HOUSE of Rep elections\n",
    "            if \"US HOUSE\" in contest_type: \n",
    "                #print contest_type \n",
    "                precincts.append(fields[3].strip())\n",
    "                contest.append(contest_type)\n",
    "                candidate.append(fields[5])\n",
    "                party.append(fields[6])\n",
    "                voteCount.append(fields[7])\n",
    "                \n",
    "    print precincts[0], contest[0], candidate[0], party[0], voteCount[0]\n",
    "        \n",
    "        "
   ]
  },
  {
   "cell_type": "code",
   "execution_count": 27,
   "metadata": {},
   "outputs": [
    {
     "name": "stdout",
     "output_type": "stream",
     "text": [
      "absentee/provisional US HOUSE (13TH DISTRICT) Alex MacDonald LIB 17\n"
     ]
    }
   ],
   "source": [
    "read_csv_2002()"
   ]
  },
  {
   "cell_type": "code",
   "execution_count": 36,
   "metadata": {},
   "outputs": [],
   "source": [
    "#read in CSV file and store relevant components --> for 2004 and 2006 election\n",
    "def read_csv_2004_06():\n",
    "    #select the election year that you wish to read \n",
    "    elec_year = \"ElecitonResults_2004.csv\"\n",
    "    #elec_year = \"ElectionResults_2006.csv\"\n",
    "    with open(elec_year, 'r') as f:\n",
    "        precincts = list()\n",
    "        contest = list()\n",
    "        candidate = list()\n",
    "        party = list()\n",
    "        voteCount = list()\n",
    "        for line in f: \n",
    "            fields = line.split(',')\n",
    "            contest_type = fields[4]\n",
    "            #We only want the fields that have to do with US HOUSE of Rep elections\n",
    "            if \"US CONGRESS\" in contest_type: \n",
    "                #print contest_type \n",
    "                precincts.append(fields[3].strip())\n",
    "                contest.append(contest_type)\n",
    "                candidate.append(fields[5])\n",
    "                party.append(fields[6])\n",
    "                voteCount.append(fields[7])\n",
    "                \n",
    "    print precincts[0], contest[0], candidate[0], party[0], voteCount[0]\n",
    "        \n",
    "        "
   ]
  },
  {
   "cell_type": "code",
   "execution_count": 37,
   "metadata": {},
   "outputs": [
    {
     "name": "stdout",
     "output_type": "stream",
     "text": [
      "GRAHAM 3 US CONGRESS DISTRICT 13 Virginia Johnson REP 321\n"
     ]
    }
   ],
   "source": [
    "read_csv_2004_06()"
   ]
  },
  {
   "cell_type": "code",
   "execution_count": 46,
   "metadata": {},
   "outputs": [],
   "source": [
    "#read in CSV file and store relevant components --> for 2008, 2010, and 2012\n",
    "def read_csv_2008_10_12():\n",
    "    #select the election that you want to read \n",
    "    #elec_year = \"ElectionResults_2008.csv\"\n",
    "    #elec_year = \"ElectionResults_2010.csv\"\n",
    "    elec_year = \"ElectionResults_2012.csv\"\n",
    "    \n",
    "    with open(elec_year, 'r') as f:\n",
    "        precincts = list()\n",
    "        contest = list()\n",
    "        candidate = list()\n",
    "        party = list()\n",
    "        voteCount = list()\n",
    "        for line in f: \n",
    "            fields = line.split(',')\n",
    "            contest_type = fields[5]\n",
    "            #We only want the fields that have to do with US HOUSE of Rep elections\n",
    "            if \"US HOUSE OF REPRESENTATIVES\" in contest_type: \n",
    "                #print contest_type \n",
    "                precincts.append(fields[1].strip())\n",
    "                contest.append(contest_type)\n",
    "                candidate.append(fields[6])\n",
    "                party.append(fields[8])\n",
    "                voteCount.append(fields[12])\n",
    "                \n",
    "    print precincts[0], contest[0], candidate[0], party[0], voteCount[0]\n",
    "        \n",
    "        "
   ]
  },
  {
   "cell_type": "code",
   "execution_count": 47,
   "metadata": {},
   "outputs": [
    {
     "name": "stdout",
     "output_type": "stream",
     "text": [
      "01_PATTERSON US HOUSE OF REPRESENTATIVES DISTRICT 2 Steve Wilkins DEM 6\n"
     ]
    }
   ],
   "source": [
    "read_csv_2008_10_12()"
   ]
  },
  {
   "cell_type": "code",
   "execution_count": 55,
   "metadata": {},
   "outputs": [],
   "source": [
    "#read in CSV file and store relevant components --> for 2014 and 2016\n",
    "def read_csv_2014_16():\n",
    "    #select the election that you want to read \n",
    "    #elec_year = \"ElectionResults_2014.csv\"\n",
    "    elec_year = \"ElectionResults_2016.csv\"\n",
    "    \n",
    "    with open(elec_year, 'r') as f:\n",
    "        precincts = list()\n",
    "        contest = list()\n",
    "        candidate = list()\n",
    "        party = list()\n",
    "        voteCount = list()\n",
    "        for line in f: \n",
    "            fields = line.split(',')\n",
    "            contest_type = fields[5]\n",
    "            #We only want the fields that have to do with US HOUSE of Rep elections\n",
    "            if \"US HOUSE OF REPRESENTATIVES\" in contest_type: \n",
    "                #print contest_type \n",
    "                precincts.append(fields[2].strip())\n",
    "                contest.append(contest_type)\n",
    "                candidate.append(fields[6])\n",
    "                party.append(fields[7])\n",
    "                voteCount.append(fields[13])\n",
    "                \n",
    "    print precincts[0], contest[0], candidate[0], party[0], voteCount[0]\n",
    "        \n",
    "        "
   ]
  },
  {
   "cell_type": "code",
   "execution_count": 56,
   "metadata": {},
   "outputs": [
    {
     "name": "stdout",
     "output_type": "stream",
     "text": [
      "05 US HOUSE OF REPRESENTATIVES DISTRICT 6 B. Mark Walker REP 1464\n"
     ]
    }
   ],
   "source": [
    "read_csv_2014_16()"
   ]
  },
  {
   "cell_type": "code",
   "execution_count": null,
   "metadata": {},
   "outputs": [],
   "source": []
  }
 ],
 "metadata": {
  "kernelspec": {
   "display_name": "Python 2",
   "language": "python",
   "name": "python2"
  },
  "language_info": {
   "codemirror_mode": {
    "name": "ipython",
    "version": 2
   },
   "file_extension": ".py",
   "mimetype": "text/x-python",
   "name": "python",
   "nbconvert_exporter": "python",
   "pygments_lexer": "ipython2",
   "version": "2.7.12"
  }
 },
 "nbformat": 4,
 "nbformat_minor": 2
}
