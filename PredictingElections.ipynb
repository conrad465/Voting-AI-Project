{
 "cells": [
  {
   "cell_type": "code",
   "execution_count": null,
   "metadata": {},
   "outputs": [],
   "source": []
  },
  {
   "cell_type": "code",
   "execution_count": null,
   "metadata": {},
   "outputs": [
    {
     "name": "stdout",
     "output_type": "stream",
     "text": [
      "Collecting sqlalchemy\n",
      "Installing collected packages: sqlalchemy\n",
      "Successfully installed sqlalchemy-1.2.2\n",
      "\u001b[33mYou are using pip version 8.1.1, however version 10.0.0 is available.\n",
      "You should consider upgrading via the 'pip install --upgrade pip' command.\u001b[0m\n"
     ]
    }
   ],
   "source": [
    "!pip install sqlalchemy"
   ]
  },
  {
   "cell_type": "code",
   "execution_count": 22,
   "metadata": {},
   "outputs": [],
   "source": [
    "import psycopg2\n",
    "import pandas as pd\n",
    "from sqlalchemy import create_engine\n",
    "from IPython.display import display\n",
    "import sys\n",
    "import re\n",
    "import numpy as np\n",
    "from difflib import SequenceMatcher\n",
    "from sklearn.neighbors import KNeighborsClassifier"
   ]
  },
  {
   "cell_type": "markdown",
   "metadata": {},
   "source": [
    "The first few cells are focused on data cleaning and oranizing the data so it run through the classifier algorithms. The get_population_data method reads in the precint demographics."
   ]
  },
  {
   "cell_type": "code",
   "execution_count": 39,
   "metadata": {},
   "outputs": [],
   "source": [
    "def get_population_data():\n",
    "    with open('PrecinctStat.csv') as gfile:\n",
    "        x=0\n",
    "        data = list()\n",
    "        for lno, line in enumerate(gfile, start=0):\n",
    "            if x==0:\n",
    "                key=line.split(',')\n",
    "            else:\n",
    "                dat=line.split(',')\n",
    "                data.append(dat)\n",
    "            x=1\n",
    "    return data\n"
   ]
  },
  {
   "cell_type": "markdown",
   "metadata": {},
   "source": [
    "Generates a list of keys to indicate which features we would be focusing on"
   ]
  },
  {
   "cell_type": "code",
   "execution_count": 40,
   "metadata": {},
   "outputs": [],
   "source": [
    "def get_key():\n",
    "    with open('PrecinctStat.csv') as gfile:\n",
    "        x=0\n",
    "        key = list()\n",
    "        for lno, line in enumerate(gfile, start=0):\n",
    "            if x==0:\n",
    "                key=line.split(',')\n",
    "            x=1\n",
    "    return key"
   ]
  },
  {
   "cell_type": "code",
   "execution_count": 41,
   "metadata": {},
   "outputs": [
    {
     "data": {
      "text/plain": [
       "(4, 5, 6, 45, 46, 47, 48, 49, 50)"
      ]
     },
     "execution_count": 41,
     "metadata": {},
     "output_type": "execute_result"
    }
   ],
   "source": [
    "key = get_key()\n",
    "x=0;\n",
    "for i in key:\n",
    "    #print x , \"   \", i\n",
    "    x=x+1\n",
    "4,5,6,45,46,47,48,49,50 "
   ]
  },
  {
   "cell_type": "markdown",
   "metadata": {},
   "source": [
    "The county and precint labels in the demographic data and the election results data differed slightly in some cases so we wrote a similarity function to match the data together"
   ]
  },
  {
   "cell_type": "code",
   "execution_count": 42,
   "metadata": {},
   "outputs": [],
   "source": [
    "def similar(a,b):\n",
    "    max =0 ;\n",
    "    temp = .01*.1\n",
    "    tempIndex =0\n",
    "    for x in range(len(b)):\n",
    "        temp = SequenceMatcher(None, a,b[x]).ratio()  \n",
    "        if temp > max:\n",
    "            max=temp\n",
    "            tempIndex= x    \n",
    "    return tempIndex, max\n",
    "     "
   ]
  },
  {
   "cell_type": "markdown",
   "metadata": {},
   "source": [
    "This function matches the demographic data from each precinct to their respective election results."
   ]
  },
  {
   "cell_type": "code",
   "execution_count": 43,
   "metadata": {},
   "outputs": [],
   "source": [
    " def pair_data(data, precincts, demVotes, repVotes, totalVotes, winner):\n",
    "    election_results = list()\n",
    "    pElection = list()\n",
    "    pCensus = list()\n",
    "    for x in range(len(data)):\n",
    "        pC = (data[x][2]+data[x][1]).lower()\n",
    "        pC = re.sub('\\W+','', pC)\n",
    "        pCensus.append(pC)\n",
    "        \n",
    "        pE = (precincts[x][0] + precincts[x][1]).lower()\n",
    "        pE = re.sub('\\W+','', pE)\n",
    "        pElection.append(pE)\n",
    "    count =0;\n",
    "    voter_info=list()\n",
    "    delIndex = list()\n",
    "    delIndexp = list()\n",
    "    for x in range(len(pCensus)):\n",
    "        vInfo=list()\n",
    "        '''if x%100 == 0:\n",
    "            print x'''\n",
    "        if pCensus[x] in pElection:\n",
    "            i = pElection.index(pCensus[x])\n",
    "            vInfo.append(precincts[i][1]+precincts[i][0])\n",
    "            vInfo.append(demVotes[i]) \n",
    "            vInfo.append(repVotes[i])\n",
    "            vInfo.append(totalVotes[i])\n",
    "            vInfo.append(winner[i])\n",
    "            voter_info.append(vInfo)\n",
    "            #print precincts[i][0]+precincts[i][1], \"    \", data[x][2]+data[x][1], \"    \", 1\n",
    "\n",
    "        else:\n",
    "            [i,b] = similar(pCensus[x], pElection)\n",
    "            if(b>.93):\n",
    "                vInfo.append(precincts[i][1]+precincts[i][0])\n",
    "                vInfo.append(demVotes[i]) \n",
    "                vInfo.append(repVotes[i])\n",
    "                vInfo.append(totalVotes[i])\n",
    "                vInfo.append(winner[i])\n",
    "                voter_info.append(vInfo)\n",
    "                #print precincts[i][0]+precincts[i][1], \"    \", data[x][2]+data[x][1], \"    \", b\n",
    "            else:\n",
    "                delIndex.append(x)\n",
    "        \n",
    "    for x in sorted(delIndex, reverse=True):\n",
    "        del data[x]\n",
    "\n",
    "    return data, voter_info    "
   ]
  },
  {
   "cell_type": "markdown",
   "metadata": {},
   "source": [
    "Code to read in the election outcomes on a precint level for the 2004 and 2006 elections"
   ]
  },
  {
   "cell_type": "code",
   "execution_count": 44,
   "metadata": {},
   "outputs": [],
   "source": [
    "def read_csv_2004_06(elec_year):\n",
    "    #select the election year that you wish to read \n",
    "    #elec_year = \"ElecitonResults_2004.csv\"\n",
    "    #elec_year = \"ElectionResults_2006.csv\"\n",
    "    \n",
    "    \n",
    "    with open(elec_year, 'r') as f:\n",
    "        precincts = list()\n",
    "        contest = list()\n",
    "        candidate = list()\n",
    "        party = list()\n",
    "        demVotes = list()\n",
    "        repVotes = list()\n",
    "        totalVotes = list()\n",
    "        winner = list()\n",
    "        for line in f: \n",
    "            fields = line.split(',')\n",
    "            contest_type = fields[4]\n",
    "            pc = (fields[3].strip(), fields[0].strip())\n",
    "            #We only want the fields that have to do with US HOUSE of Rep elections\n",
    "            if \"US CONGRESS\" in contest_type and len(fields)==9: \n",
    "                \n",
    "                #if the precinct hasn't been added to the list yet add it in with the relevant fields \n",
    "                if pc not in precincts: \n",
    "                    precincts.append(pc)\n",
    "                    contest.append(contest_type)\n",
    "                    #candidate.append(fields[5])\n",
    "                    #party.append(fields[6])\n",
    "                    if fields[6] == \"DEM\": \n",
    "                        demVotes.append(int(fields[7]))\n",
    "                        repVotes.append(-1)\n",
    "                    elif fields[6] == \"REP\":\n",
    "                        repVotes.append(int(fields[7]))\n",
    "                        demVotes.append(-1)\n",
    "                    else: \n",
    "                        repVotes.append(-1)\n",
    "                        demVotes.append(-1)\n",
    "                        \n",
    "                    totalVotes.append(int(fields[7]))\n",
    "                    winner.append(fields[6])\n",
    "                    \n",
    "                #if the precinct has already been added, update the fields accordingly\n",
    "                else: \n",
    "                    index = precincts.index(pc)\n",
    "                    if fields[6] == \"DEM\": \n",
    "                        demVotes[index] = int(fields[7])\n",
    "                        curVotes = totalVotes[index]\n",
    "                        newTotal = curVotes + int(fields[7])\n",
    "                        totalVotes[index] = newTotal\n",
    "                    elif fields[6] == \"REP\": \n",
    "                        repVotes[index] = int(fields[7])\n",
    "                        curVotes = totalVotes[index]\n",
    "                        newTotal = curVotes + int(fields[7])\n",
    "                        totalVotes[index] = newTotal\n",
    "                    else: \n",
    "                        curVotes = totalVotes[index]\n",
    "                        newTotal = curVotes + int(fields[7])\n",
    "                        totalVotes[index] = newTotal\n",
    "                    \n",
    "                    if demVotes[index] > repVotes[index]: \n",
    "                        winner[index] = \"DEM\"\n",
    "                    else: \n",
    "                        winner[index] = \"REP\"\n",
    "                \n",
    "    #print \"Precinct: \", precincts[1], \" Contest: \", contest[1], \" Dem Votes: \", demVotes[1], \" Rep Votes: \", repVotes[1], \" Total Votes: \", totalVotes[1], \" Winner: \", winner[1]\n",
    "        \n",
    "    data = get_population_data()\n",
    "    return pair_data(data, precincts, demVotes, repVotes, totalVotes, winner)\n",
    "        "
   ]
  },
  {
   "cell_type": "markdown",
   "metadata": {},
   "source": [
    "Reading in the data and storing the features in outcomes in x and y for 2004 and 2006 elections"
   ]
  },
  {
   "cell_type": "code",
   "execution_count": 45,
   "metadata": {},
   "outputs": [],
   "source": [
    "[x1,y1]=read_csv_2004_06(\"ElecitonResults_2004.csv\")\n",
    "[x2,y2]=read_csv_2004_06(\"ElectionResults_2006.csv\")\n"
   ]
  },
  {
   "cell_type": "markdown",
   "metadata": {},
   "source": [
    "Reading in the election outcomes for the 2008, 2010, and 2012 elections. The format of these csv files were different than the 2004 and 2006 elections so the code differed slightly. We would also like to note we did not use the data from the 2010 and 2012 elections because they were missing data that caused erros when pairing this data with the precinct demographic data."
   ]
  },
  {
   "cell_type": "code",
   "execution_count": 47,
   "metadata": {},
   "outputs": [],
   "source": [
    "#read in CSV file and store relevant components --> for 2008, 2010, and 2012\n",
    "    \n",
    "def read_csv_2008_10_12(elec_year):\n",
    "    \n",
    "    \n",
    "    \n",
    "    with open(elec_year, 'r') as f:\n",
    "        precincts = list()\n",
    "        contest = list()\n",
    "        candidate = list()\n",
    "        party = list()\n",
    "        demVotes = list()\n",
    "        repVotes = list()\n",
    "        totalVotes = list()\n",
    "        winner = list()\n",
    "        for line in f: \n",
    "            fields = line.split(',')\n",
    "            contest_type = fields[5]\n",
    "            pc = (fields[1].strip(), fields[0].strip())\n",
    "            #We only want the fields that have to do with US HOUSE of Rep elections\n",
    "            if \"US HOUSE OF REPRESENTATIVES\" in contest_type and len(fields)==14: \n",
    "                #print \"test\"\n",
    "                if pc not in precincts: \n",
    "                    \n",
    "                    precincts.append(pc)\n",
    "                    contest.append(contest_type)\n",
    "                    #candidate.append(fields[5])\n",
    "                    #party.append(fields[6])\n",
    "                    if fields[8] == \"DEM\": \n",
    "                        demVotes.append(int(fields[12]))\n",
    "                        repVotes.append(-1)\n",
    "                    elif fields[8] == \"REP\":\n",
    "                        repVotes.append(int(fields[12]))\n",
    "                        demVotes.append(-1)\n",
    "                    else: \n",
    "                        repVotes.append(-1)\n",
    "                        demVotes.append(-1)\n",
    "                        \n",
    "                    totalVotes.append(int(fields[12]))\n",
    "                    winner.append(fields[8])\n",
    "                    \n",
    "                #if the precinct has already been added, update the fields accordingly\n",
    "                else: \n",
    "                    index = precincts.index(pc)\n",
    "                    if fields[8] == \"DEM\": \n",
    "                        demVotes[index] = int(fields[12])\n",
    "                        curVotes = totalVotes[index]\n",
    "                        newTotal = curVotes + int(fields[12])\n",
    "                        totalVotes[index] = newTotal\n",
    "                    elif fields[8] == \"REP\": \n",
    "                        repVotes[index] = int(fields[12])\n",
    "                        curVotes = totalVotes[index]\n",
    "                        newTotal = curVotes + int(fields[12])\n",
    "                        totalVotes[index] = newTotal\n",
    "                    else: \n",
    "                        curVotes = totalVotes[index]\n",
    "                        newTotal = curVotes + int(fields[12])\n",
    "                        totalVotes[index] = newTotal\n",
    "                    \n",
    "                    if demVotes[index] > repVotes[index]: \n",
    "                        winner[index] = \"DEM\"\n",
    "                    else: \n",
    "                        winner[index] = \"REP\"\n",
    "                \n",
    "                \"\"\"#print contest_type \n",
    "                precincts.append(fields[1].strip())\n",
    "                contest.append(contest_type)\n",
    "                candidate.append(fields[6])\n",
    "                party.append(fields[8])\n",
    "                voteCount.append(fields[12])\"\"\"\n",
    "                \n",
    "    #print \"Precinct: \", precincts[0], \" Contest: \", contest[0], \" Dem Votes: \", demVotes[0], \" Rep Votes: \", repVotes[0], \" Total Votes: \", totalVotes[0], \" Winner: \", winner[0]\n",
    "\n",
    "    data = get_population_data()\n",
    "    return pair_data(data, precincts, demVotes, repVotes, totalVotes, winner)"
   ]
  },
  {
   "cell_type": "markdown",
   "metadata": {},
   "source": [
    "Reading the election results for 2008 and storing them in x and y"
   ]
  },
  {
   "cell_type": "code",
   "execution_count": 48,
   "metadata": {},
   "outputs": [],
   "source": [
    "[x3,y3] = read_csv_2008_10_12(\"ElectionResults_2008.csv\")\n",
    "\n",
    "#We were going to use the 2010 and 2012 elections but they had missing data which caused errors when cleaning the data\n",
    "#[x4,y4] = read_csv_2008_10_12(\"ElectionResults_2010.csv\")\n",
    "#[x5,y5] = read_csv_2008_10_12(\"ElectionResults_2012.csv\")"
   ]
  },
  {
   "cell_type": "markdown",
   "metadata": {},
   "source": [
    "This our algorithm for predicting election results using a nearest neighbor classifer."
   ]
  },
  {
   "cell_type": "code",
   "execution_count": 77,
   "metadata": {},
   "outputs": [],
   "source": [
    "from sklearn import cross_validation, naive_bayes\n",
    "\n",
    "def run_classifier(feat, out):\n",
    "    k=9\n",
    "    features = [4,5,6,45,46,47,48,49,50] \n",
    "    print\"Running K nearest neighbors with k=\", k , \"on Congressional year 2008 NC with features as\";\n",
    "    entries = list()\n",
    "    outcomes = list()\n",
    "    \"\"\"for x in features:\n",
    "        print key[x]\"\"\"\n",
    "    for x in range(len(out)):\n",
    "        temp = list()\n",
    "        for y in features:\n",
    "            temp.append(feat[x][y])  \n",
    "        entries.append(temp)\n",
    "    for y in range(len(out)):\n",
    "        outcomes.append(out[y][4])\n",
    "\n",
    "    test_entries = list()\n",
    "    \"\"\"for x in features:\n",
    "        print key[x]\"\"\"\n",
    "\n",
    "    #print len(entries), len(entries[0])\n",
    "    #print \"with \",len(outcomes), \" entries\"\n",
    "    neigh = KNeighborsClassifier(n_neighbors = k)\n",
    "\n",
    "\n",
    "\n",
    "\n",
    "    X_train, X_test, y_train, y_test \\\n",
    "        = cross_validation.train_test_split(entries, outcomes, test_size=0.33, random_state=216)\n",
    "    neigh.fit(X_train, y_train)\n",
    "    print 'train accuracy: {:.4f}'.format(neigh.score(X_train, y_train))\n",
    "    print 'test accuracy: {:.4f}'.format(neigh.score(X_test, y_test))\n",
    "    nf = 10\n",
    "    scores = cross_validation.cross_val_score(neigh, entries, outcomes, cv=10)\n",
    "    print scores\n",
    "    print 'accuracy: {:.4f} (+/- {:.4f})'.format(scores.mean(), scores.std()*2)\n",
    "\n",
    "    neigh.fit(entries, outcomes)\n",
    "    y = neigh.predict(entries)\n",
    "\n",
    "    correct =0;\n",
    "    #print len(y)\n",
    "    for i in range(len(y)):\n",
    "        #print y[i], \"   \", y_test[i]\n",
    "        if y[i] == outcomes[i]:\n",
    "            correct += 1\n",
    "    print \"Predicted \", correct, \"results out of \", len(y), \"giving an accuracy of \", float(correct)/float(len(y))\n",
    "\n"
   ]
  },
  {
   "cell_type": "code",
   "execution_count": 78,
   "metadata": {},
   "outputs": [
    {
     "name": "stdout",
     "output_type": "stream",
     "text": [
      "Running K nearest neighbors with k= 9 on Congressional year 2008 NC with features as\n",
      "train accuracy: 0.8405\n",
      "test accuracy: 0.7887\n",
      "[0.82485876 0.72881356 0.81920904 0.84745763 0.78531073 0.75\n",
      " 0.85714286 0.78857143 0.79428571 0.80571429]\n",
      "accuracy: 0.8001 (+/- 0.0761)\n",
      "Predicted  1471 results out of  1761 giving an accuracy of  0.835320840432\n"
     ]
    }
   ],
   "source": [
    "run_classifier(x1,y1)"
   ]
  },
  {
   "cell_type": "code",
   "execution_count": 79,
   "metadata": {},
   "outputs": [
    {
     "name": "stdout",
     "output_type": "stream",
     "text": [
      "Running K nearest neighbors with k= 9 on Congressional year 2008 NC with features as\n",
      "train accuracy: 0.7923\n",
      "test accuracy: 0.7304\n",
      "[0.76646707 0.61676647 0.86227545 0.72289157 0.79518072 0.59036145\n",
      " 0.71686747 0.6686747  0.77575758 0.80606061]\n",
      "accuracy: 0.7321 (+/- 0.1640)\n",
      "Predicted  1310 results out of  1661 giving an accuracy of  0.788681517158\n"
     ]
    }
   ],
   "source": [
    "run_classifier(x2,y2)"
   ]
  },
  {
   "cell_type": "code",
   "execution_count": 80,
   "metadata": {},
   "outputs": [
    {
     "name": "stdout",
     "output_type": "stream",
     "text": [
      "Running K nearest neighbors with k= 9 on Congressional year 2008 NC with features as\n",
      "train accuracy: 0.7761\n",
      "test accuracy: 0.7271\n",
      "[0.77857143 0.63309353 0.79856115 0.67625899 0.67625899 0.64028777\n",
      " 0.57971014 0.77536232 0.74637681 0.80434783]\n",
      "accuracy: 0.7109 (+/- 0.1511)\n",
      "Predicted  1076 results out of  1387 giving an accuracy of  0.775775054074\n"
     ]
    }
   ],
   "source": [
    "run_classifier(x3,y3)"
   ]
  },
  {
   "cell_type": "markdown",
   "metadata": {},
   "source": [
    "This is our algorithm for predicting election results using Gaussian Naive Bayes"
   ]
  },
  {
   "cell_type": "code",
   "execution_count": 83,
   "metadata": {},
   "outputs": [],
   "source": [
    "from sklearn import cross_validation, naive_bayes\n",
    "def run_bayes(feat, out):    \n",
    "    \n",
    "    features = [4,5,6,45,46,47,48,49,50] \n",
    "    print\"Running naive bayes on Congressional year 2008 NC with features as\";\n",
    "    entries = list()\n",
    "    outcomes = list()\n",
    "    \"\"\"for x in features:\n",
    "        print key[x]\"\"\"\n",
    "    for x in range(len(out)):\n",
    "        temp = list()\n",
    "        for y in features:\n",
    "            temp.append(int(feat[x][y]))  \n",
    "        entries.append(temp)\n",
    "    for y in range(len(out)):\n",
    "        outcomes.append(out[y][4])\n",
    "\n",
    "    test_entries = list()\n",
    "    \"\"\"for x in features:\n",
    "        print key[x]\"\"\"\n",
    "\n",
    "    #print len(entries), len(entries[0])\n",
    "    #print \"with \",len(outcomes), \" entries\"\n",
    "\n",
    "\n",
    "    classifier = naive_bayes.GaussianNB()\n",
    "    X_train, X_test, y_train, y_test \\\n",
    "        = cross_validation.train_test_split(entries, outcomes, test_size=0.33, random_state=216)\n",
    "    classifier.fit(X_train, y_train)\n",
    "    \n",
    "    print 'train accuracy: {:.4f}'.format(classifier.score(X_train, y_train))\n",
    "    print 'test accuracy: {:.4f}'.format(classifier.score(X_test, y_test))\n",
    "    \n",
    "    classifier.fit(entries, outcomes)\n",
    "    y = classifier.predict(entries)\n",
    "\n",
    "    correct =0;\n",
    "    #print len(y)\n",
    "    for i in range(len(y)):\n",
    "        #print y[i], \"   \", y_test[i]\n",
    "        if y[i] == outcomes[i]:\n",
    "            correct += 1\n",
    "    print \"Predicted \", correct, \"results out of \", len(y), \"giving an accuracy of \", float(correct)/float(len(y))\n",
    "\n",
    "\n",
    "\n",
    "\n"
   ]
  },
  {
   "cell_type": "code",
   "execution_count": 84,
   "metadata": {},
   "outputs": [
    {
     "name": "stdout",
     "output_type": "stream",
     "text": [
      "Running naive bayes on Congressional year 2008 NC with features as\n",
      "train accuracy: 0.7379\n",
      "test accuracy: 0.7302\n",
      "Predicted  1273 results out of  1761 giving an accuracy of  0.722884724588\n"
     ]
    }
   ],
   "source": [
    "run_bayes(x1,y1)"
   ]
  },
  {
   "cell_type": "code",
   "execution_count": 85,
   "metadata": {},
   "outputs": [
    {
     "name": "stdout",
     "output_type": "stream",
     "text": [
      "Running naive bayes on Congressional year 2008 NC with features as\n",
      "train accuracy: 0.6178\n",
      "test accuracy: 0.6357\n",
      "Predicted  1033 results out of  1661 giving an accuracy of  0.621914509332\n"
     ]
    }
   ],
   "source": [
    "run_bayes(x2,y2)"
   ]
  },
  {
   "cell_type": "code",
   "execution_count": 86,
   "metadata": {},
   "outputs": [
    {
     "name": "stdout",
     "output_type": "stream",
     "text": [
      "Running naive bayes on Congressional year 2008 NC with features as\n",
      "train accuracy: 0.6308\n",
      "test accuracy: 0.6441\n",
      "Predicted  874 results out of  1387 giving an accuracy of  0.630136986301\n"
     ]
    }
   ],
   "source": [
    "run_bayes(x3,y3)"
   ]
  }
 ],
 "metadata": {
  "kernelspec": {
   "display_name": "Python 2",
   "language": "python",
   "name": "python2"
  },
  "language_info": {
   "codemirror_mode": {
    "name": "ipython",
    "version": 2
   },
   "file_extension": ".py",
   "mimetype": "text/x-python",
   "name": "python",
   "nbconvert_exporter": "python",
   "pygments_lexer": "ipython2",
   "version": "2.7.12"
  }
 },
 "nbformat": 4,
 "nbformat_minor": 2
}
